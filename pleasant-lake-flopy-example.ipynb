{
 "cells": [
  {
   "cell_type": "markdown",
   "id": "e0e850ed",
   "metadata": {},
   "source": [
    "# Pleasant Lake worked Flopy example\n",
    "\n",
    "This worked example uses Flopy to  \n",
    "* develop a geo-located model grid, \n",
    "* map input to the grid, \n",
    "* create MODFLOW input files\n",
    "* visualize model results.\n",
    "\n",
    "In addition,\n",
    "* [SFRmaker](https://doi.org/10.1111/gwat.13095) is used with flopy to construct the Streamflow Routing Package for MODFLOW\n",
    "* [Numpy](https://numpy.org) is used for some basic array operations\n",
    "* [Matplotlib](https://matplotlib.org/) is used along with Flopy to visualize the model results\n",
    "\n",
    "\n",
    "The example is based on the Pleasant Lake MODFLOW 6 model published by Fienen et al. (2022), which was created to evaluate groundwater abstraction impacts on the ecological function of Pleasant Lake in central Wisconsin, USA. While simplified from the original work (available from [Fienen et al. (2021)](https://doi.org/10.5066/P9BVFSGJ), the example is still similar to a \"real world\" application in that it includes Streamflow Routing and Lake Package boundary conditions, and specification of input through external text array files that are amenable to parameter estimation. \n",
    "\n",
    "### Imports\n",
    "We start by importing the required packages and objects:"
   ]
  },
  {
   "cell_type": "code",
   "execution_count": 1,
   "id": "5acd45ac",
   "metadata": {},
   "outputs": [],
   "source": [
    "import numpy as np\n",
    "import matplotlib.pyplot as plt\n",
    "import flopy\n",
    "import flopy.mf6 as mf6\n",
    "from flopy.discretization import StructuredGrid\n",
    "from flopy.utils import Raster\n",
    "import sfrmaker"
   ]
  },
  {
   "cell_type": "markdown",
   "id": "08567e2b",
   "metadata": {},
   "source": [
    "### Basic model information\n",
    "Next we define a name and folder location for the model. We then define the discretization and orientation of the model grid in a coordinate reference system (in this case, Wisconsin Transverse Mercator, denoted by EPSG code 3070). "
   ]
  },
  {
   "cell_type": "code",
   "execution_count": 2,
   "id": "be85402f",
   "metadata": {},
   "outputs": [],
   "source": [
    "model_name = 'pleasant'\n",
    "workspace = '.'\n",
    "\n",
    "nper, nlay, nrow, ncol = 1, 3, 60, 70\n",
    "delr, delc = 40, 40\n",
    "xoffset, yoffset = 554400., 389200.0\n",
    "epsg = 3070\n",
    "\n",
    "modelgrid = StructuredGrid(\n",
    "    delr=np.ones(ncol) * delr,\n",
    "    delc=np.ones(nrow) * delc,\n",
    "    xoff=xoffset, yoff=yoffset, angrot=0)"
   ]
  },
  {
   "cell_type": "markdown",
   "id": "933cbc52",
   "metadata": {},
   "source": [
    "### Show intersecting a single raster with model grid using flopy's Raster class\n",
    "The ``Raster`` class in Flopy can be used to interpolate raster surfaces onto the geolocated model grid. In this case, elevations from the impermeable bedrock surface at the base of the model are interpolated linearly to the model grid cell centers. The ``Raster`` class returns a Numpy array of the same shape as the model, which can be written to a text file that can be read directly by MODFLOW."
   ]
  },
  {
   "cell_type": "code",
   "execution_count": 3,
   "id": "0d6e9f19",
   "metadata": {},
   "outputs": [],
   "source": [
    "br_surf = Raster.load('data/br_surface.tif')\n",
    "rs = br_surf.resample_to_grid(\n",
    "    modelgrid, band=1, method='linear')\n",
    "np.savetxt('data/botm_002.dat', rs)"
   ]
  },
  {
   "cell_type": "markdown",
   "id": "73a9be70",
   "metadata": {},
   "source": [
    "### External array files\n",
    "Similar operations can be performed to produce text file arrays for other model properties. For example, Flopy can export a shapefile of the model grid, which can then be used in a GIS environment to compute zonal statistics of land surface elevations or to map other properties to the grid. Or text file arrays might be produced by parameter estimation software such as PEST. We list text file inputs together in the block below for easy reference. Broadly, these external files fall into two categories-- array files of spatially continuous values for each cell (with one file per layer or stress period), and tabular files of sparse input values (one per stress period) with location and attribute information (e.g. row/column/layer or node number, flux, elevation, stage, conductance, etc.). In the example below, hydraulic conductivity, recharge and cell top and bottom elevations are contained in arrays; specified heads along the model perimeter are contained in a table externally (e.g. through GIS) mapped to layer, row, column locations in the grid."
   ]
  },
  {
   "cell_type": "code",
   "execution_count": 4,
   "id": "290b4ee4",
   "metadata": {},
   "outputs": [],
   "source": [
    "top = [{'filename': 'data/top.dat'}]\n",
    "botm = [{'filename': 'data/botm_000.dat'},\n",
    "        {'filename': 'data/botm_001.dat'},\n",
    "        {'filename': 'data/botm_002.dat'}]\n",
    "# hydraulic conductivity\n",
    "k = [{'filename': 'data/k_000.dat'},\n",
    "     {'filename': 'data/k_001.dat'},\n",
    "     {'filename': 'data/k_002.dat'}]\n",
    "# vertical hydraulic conductivity\n",
    "k33 = [{'filename': 'data/k33_000.dat'},\n",
    "       {'filename': 'data/k33_001.dat'},\n",
    "       {'filename': 'data/k33_002.dat'}]\n",
    "# use the model top for starting heads\n",
    "strt = [top[0]] * nlay\n",
    "recharge = {\n",
    "    0: {'filename': 'data/rch_000.dat'}}\n",
    "irch = [{'filename': 'data/irch.dat'}]\n",
    "spec_head_perimeter = {\n",
    "    0: {'filename': 'data/chd_000.dat'}}"
   ]
  },
  {
   "cell_type": "markdown",
   "id": "2353432b",
   "metadata": {},
   "source": [
    "### Set up the model in Flopy\n",
    "Now that we've defined the model grid and listed the key external file inputs, we're ready to construct the model in Flopy. In general, Flopy represents each input file to MODFLOW with its own python object class. The MODFLOW 6 and Flopy documentation provide more details on the input structures to MODFLOW 6 and Flopy. Here we start by creating a simulation class instance, which represents the Simulation Name File in MODFLOW 6."
   ]
  },
  {
   "cell_type": "code",
   "execution_count": 5,
   "id": "8b16df86",
   "metadata": {},
   "outputs": [],
   "source": [
    "sim = mf6.MFSimulation(\n",
    "    sim_name=model_name, version=\"mf6\", \n",
    "    exe_name=\"mf6\", sim_ws=workspace)"
   ]
  },
  {
   "cell_type": "markdown",
   "id": "8dbeecb9",
   "metadata": {},
   "source": [
    "Next we create object instances for the simulation level packages that would be shared by all models contained within a MODFLOW 6 simulation. These include the Temporal Discretization (TDIS) and Iterative Matrix Solution (IMS) Packages."
   ]
  },
  {
   "cell_type": "code",
   "execution_count": 6,
   "id": "112f68b5",
   "metadata": {},
   "outputs": [],
   "source": [
    "tdis = mf6.ModflowTdis(\n",
    "    sim, time_units=\"days\", nper=1, \n",
    "    perioddata=[(1.0, 1, 1.0)])\n",
    "\n",
    "ims = mf6.ModflowIms(\n",
    "    sim, complexity=\"moderate\", \n",
    "    outer_dvclose=0.001)"
   ]
  },
  {
   "cell_type": "markdown",
   "id": "73fb3d12",
   "metadata": {},
   "source": [
    "Now that the simulation is established, we can make the groundwater model. The ``ModflowGwf`` class represents the groundwater model and the Name file. Next, we create class instances for the Output Control and Discretization Packages. We opt to save the head and flow solutions to MODFLOW binary output, so that we can view them later. We also use information from the stand-alone model grid that we made earlier to locate the model grid object attached to the Flopy model, so that Flopy will write the correct spatial reference information to the Name file."
   ]
  },
  {
   "cell_type": "code",
   "execution_count": 7,
   "id": "0af601f4",
   "metadata": {},
   "outputs": [
    {
     "data": {
      "text/plain": [
       "xll:554400.0; yll:389200.0; rotation:0.0; proj4_str:epsg:3070; units:undefined; lenuni:0"
      ]
     },
     "execution_count": 7,
     "metadata": {},
     "output_type": "execute_result"
    }
   ],
   "source": [
    "# create the model instance\n",
    "gwf = mf6.ModflowGwf(\n",
    "    sim, modelname=model_name, \n",
    "    save_flows=True)\n",
    "\n",
    "# output control\n",
    "oc = mf6.ModflowGwfoc(\n",
    "    gwf, head_filerecord=f'{gwf.name}.hds', \n",
    "    budget_filerecord=f'{gwf.name}.cbc',\n",
    "    saverecord=[('head', 'all'), (\"budget\", \"all\")])\n",
    "                \n",
    "# set up the discretization package\n",
    "dis = mf6.ModflowGwfdis(\n",
    "    gwf, nlay=nlay, nrow=nrow, ncol=ncol,\n",
    "    delr=delr, delc=delc, \n",
    "    top=top, botm=botm, idomain=1)\n",
    "\n",
    "# locate the model grid\n",
    "gwf.modelgrid.set_coord_info(\n",
    "    xoff=xoffset, yoff=yoffset, epsg=epsg)\n",
    "gwf.modelgrid"
   ]
  },
  {
   "cell_type": "markdown",
   "id": "e5e8a241",
   "metadata": {},
   "source": [
    "### Assign aquifer properties\n",
    "Next, we assign aquifer properties. Since this is a steady-state model, we need only include the Node Property Flow (NPF) package, which specifies hydraulic conductivity."
   ]
  },
  {
   "cell_type": "code",
   "execution_count": 8,
   "id": "b6995e4b",
   "metadata": {},
   "outputs": [],
   "source": [
    "npf = mf6.ModflowGwfnpf(\n",
    "    gwf, icelltype=1, k=k, k33=k33)"
   ]
  },
  {
   "cell_type": "markdown",
   "id": "d64899d3",
   "metadata": {},
   "source": [
    "### Assign initial conditions\n",
    "Starting heads for the model are assigned via the Initial Conditions (IC) Package. Earlier in the workflow, we assigned a text file array of the model top elevation to the ``strt`` variable (starting heads for the model solution)."
   ]
  },
  {
   "cell_type": "code",
   "execution_count": 9,
   "id": "1a6ae50a",
   "metadata": {},
   "outputs": [],
   "source": [
    "ic = mf6.ModflowGwfic(gwf, strt=strt)"
   ]
  },
  {
   "cell_type": "markdown",
   "id": "6faf787c",
   "metadata": {},
   "source": [
    "### Assign boundary conditions\n",
    "Finally, we assign boundary conditions. Similar to other packages, we specify perimeter heads to the Constant Head Package via an external table, and steady state recharge via a text array file. An external connection data table for the Lake Package lists each model cell connected to the lake, as well as the leakance and orientation of each connection. The ``packagedata`` argument contains the initial stage, number of connections, and \"boundname\" for each lake (Langevin et al., 2017). Lake water balance components are specified under ``perioddata``, a python dictionary with keys being stress periods and values being lists. This type of data structure is used frequently for transient data in Flopy. An external table specifies the relationship between stage, area and volume for the lake."
   ]
  },
  {
   "cell_type": "code",
   "execution_count": 10,
   "id": "14e94e72",
   "metadata": {},
   "outputs": [],
   "source": [
    "chd = mf6.ModflowGwfchd(\n",
    "    gwf, stress_period_data=spec_head_perimeter)\n",
    "rch = mf6.ModflowGwfrcha(\n",
    "    gwf, recharge=recharge, irch=irch)\n",
    "\n",
    "lak = mf6.ModflowGwflak(\n",
    "    gwf,\n",
    "    boundnames=True, nlakes=1,\n",
    "    connectiondata={\n",
    "        'filename': 'data/lake_cn.dat'},\n",
    "    packagedata=[[0, 290.85, 345, 'lake1']],\n",
    "    perioddata={0: [\n",
    "        [0, 'evaporation', 0.000715], \n",
    "        [0, 'rainfall', 0.00209]]},\n",
    "    surfdep=0.1)"
   ]
  },
  {
   "cell_type": "markdown",
   "id": "68ddec9c",
   "metadata": {},
   "source": [
    "### Streamflow Routing Package input\n",
    "The creation of Streamflow Routing (SFR) Package input is handled by SFRmaker (Leaf et al., 2021), which takes a shapefile of hydrography and a digital elevation model raster as input, and adds the package to the Flopy model object."
   ]
  },
  {
   "cell_type": "code",
   "execution_count": 11,
   "id": "1f053a1a",
   "metadata": {
    "scrolled": false
   },
   "outputs": [
    {
     "name": "stdout",
     "output_type": "stream",
     "text": [
      "\n",
      "reading data/edited_flowlines.shp...\n",
      "--> building dataframe... (may take a while for large shapefiles)\n",
      "\n",
      "SFRmaker version 0.9.1.post13+gc7f9ffa\n",
      "\n",
      "Creating sfr dataset...\n",
      "Model grid information\n",
      "structured grid\n",
      "nnodes: 4,200\n",
      "nlay: 1\n",
      "nrow: 60\n",
      "ncol: 70\n",
      "model length units: undefined\n",
      "crs: EPSG:3070\n",
      "bounds: 554400.00, 389200.00, 557200.00, 391600.00\n",
      "active area defined by: all cells\n",
      "\n",
      "name = pleasant\n",
      "model_type = gwf6\n",
      "version = mf6\n",
      "model_relative_path = .\n",
      "\n",
      "###################\n",
      "Package oc\n",
      "###################\n",
      "\n",
      "package_name = oc\n",
      "filename = pleasant.oc\n",
      "package_type = oc\n",
      "model_or_simulation_package = model\n",
      "model_name = pleasant\n",
      "\n",
      "\n",
      "###################\n",
      "Package dis\n",
      "###################\n",
      "\n",
      "package_name = dis\n",
      "filename = pleasant.dis\n",
      "package_type = dis\n",
      "model_or_simulation_package = model\n",
      "model_name = pleasant\n",
      "\n",
      "\n",
      "###################\n",
      "Package npf\n",
      "###################\n",
      "\n",
      "package_name = npf\n",
      "filename = pleasant.npf\n",
      "package_type = npf\n",
      "model_or_simulation_package = model\n",
      "model_name = pleasant\n",
      "\n",
      "\n",
      "###################\n",
      "Package ic\n",
      "###################\n",
      "\n",
      "package_name = ic\n",
      "filename = pleasant.ic\n",
      "package_type = ic\n",
      "model_or_simulation_package = model\n",
      "model_name = pleasant\n",
      "\n",
      "\n",
      "###################\n",
      "Package chd_0\n",
      "###################\n",
      "\n",
      "package_name = chd_0\n",
      "filename = pleasant.chd\n",
      "package_type = chd\n",
      "model_or_simulation_package = model\n",
      "model_name = pleasant\n",
      "\n",
      "\n",
      "###################\n",
      "Package rcha_0\n",
      "###################\n",
      "\n",
      "package_name = rcha_0\n",
      "filename = pleasant.rcha\n",
      "package_type = rcha\n",
      "model_or_simulation_package = model\n",
      "model_name = pleasant\n",
      "\n",
      "\n",
      "###################\n",
      "Package lak_0\n",
      "###################\n",
      "\n",
      "package_name = lak_0\n",
      "filename = pleasant.lak\n",
      "package_type = lak\n",
      "model_or_simulation_package = model\n",
      "model_name = pleasant\n",
      "\n",
      "\n",
      "\n",
      "Warning: No length units specified in CRS for input LineStrings or length units not recognizeddefaulting to meters.\n",
      "\n",
      "reprojecting hydrography from\n",
      "EPSG:4269\n",
      "to\n",
      "EPSG:3070\n",
      "\n",
      "\n",
      "Culling hydrography to active area...\n",
      "starting lines: 48\n",
      "remaining lines: 2\n",
      "finished in 0.00s\n",
      "\n",
      "\n",
      "Intersecting 2 flowlines with 4,200 grid cells...\n",
      "Intersecting 2 features...\n",
      "2\n",
      "finished in 0.02s\n",
      "\n",
      "Setting up reach data... (may take a few minutes for large grids)\n",
      "finished in 0.01s\n",
      "\n",
      "\n",
      "Dropping 1 reaches with length < 2.00 meters...\n",
      "\n",
      "Repairing routing connections...\n",
      "enforcing best segment numbering...\n",
      "\n",
      "Setting up segment data...\n",
      "Model grid information\n",
      "structured grid\n",
      "nnodes: 4,200\n",
      "nlay: 1\n",
      "nrow: 60\n",
      "ncol: 70\n",
      "model length units: undefined\n",
      "crs: EPSG:3070\n",
      "bounds: 554400.00, 389200.00, 557200.00, 391600.00\n",
      "active area defined by: all cells\n",
      "\n",
      "\n",
      "Time to create sfr dataset: 0.31s\n",
      "\n",
      "running rasterstats.zonal_stats on buffered LineStrings...\n",
      "finished in 0.89s\n",
      "\n",
      "\n",
      "Smoothing elevations...\n",
      "finished in 0.00s\n",
      "Warning: BAS6 package not found. Cannot check for reaches in inactive cells. Converted SFR package may not run with MODFLOW 6.\n",
      "converting reach and segment data to package data...\n",
      "converting segment data to period data...\n"
     ]
    }
   ],
   "source": [
    "lines = sfrmaker.Lines.from_shapefile(\n",
    "    shapefile='data/edited_flowlines.shp',\n",
    "    id_column='id',\n",
    "    routing_column='toid',\n",
    "    width1_column='width1',\n",
    "    width2_column='width2',\n",
    "    name_column='name',\n",
    "    attr_length_units='meters'\n",
    "    )\n",
    "sfrdata = lines.to_sfr(\n",
    "    model=gwf, \n",
    "    model_length_units='meters')\n",
    "sfrdata.set_streambed_top_elevations_from_dem(\n",
    "    'data/dem40m.tif', \n",
    "    elevation_units='meters')\n",
    "sfrdata.assign_layers()\n",
    "sfr = sfrdata.create_mf6sfr(gwf)"
   ]
  },
  {
   "cell_type": "markdown",
   "id": "b4235d53",
   "metadata": {},
   "source": [
    "### Writing the input files\n",
    "Now that all the packages are made, we can write the MODFLOW input files."
   ]
  },
  {
   "cell_type": "code",
   "execution_count": 12,
   "id": "03fb00f8",
   "metadata": {},
   "outputs": [
    {
     "name": "stdout",
     "output_type": "stream",
     "text": [
      "writing simulation...\n",
      "  writing simulation name file...\n",
      "  writing simulation tdis package...\n",
      "  writing ims package ims_-1...\n",
      "  writing model pleasant...\n",
      "    writing model name file...\n",
      "    writing package oc...\n",
      "    writing package dis...\n",
      "    writing package npf...\n",
      "    writing package ic...\n",
      "    writing package chd_0...\n",
      "INFORMATION: maxbound in ('gwf6', 'chd', 'dimensions') changed to 572 based on size of stress_period_data\n",
      "    writing package rcha_0...\n",
      "    writing package lak_0...\n",
      "    writing package sfr_0...\n"
     ]
    }
   ],
   "source": [
    "sim.write_simulation()"
   ]
  },
  {
   "cell_type": "markdown",
   "id": "2c13a52e",
   "metadata": {},
   "source": [
    "### Running the model with Flopy\n",
    "MODFLOW can be run at the command line, or through Flopy, as shown here."
   ]
  },
  {
   "cell_type": "code",
   "execution_count": 13,
   "id": "fa7b54e4",
   "metadata": {},
   "outputs": [
    {
     "name": "stdout",
     "output_type": "stream",
     "text": [
      "FloPy is using the following executable to run the model: /Users/aleaf/Documents/software/modflow_exes/mf6\n",
      "                                   MODFLOW 6\n",
      "                U.S. GEOLOGICAL SURVEY MODULAR HYDROLOGIC MODEL\n",
      "                            VERSION 6.3.0 03/04/2022\n",
      "\n",
      "   MODFLOW 6 compiled Mar 07 2022 13:50:09 with Intel(R) Fortran Intel(R) 64\n",
      "   Compiler Classic for applications running on Intel(R) 64, Version 2021.5.0\n",
      "                             Build 20211109_000000\n",
      "\n",
      "This software has been approved for release by the U.S. Geological \n",
      "Survey (USGS). Although the software has been subjected to rigorous \n",
      "review, the USGS reserves the right to update the software as needed \n",
      "pursuant to further analysis and review. No warranty, expressed or \n",
      "implied, is made by the USGS or the U.S. Government as to the \n",
      "functionality of the software and related material nor shall the \n",
      "fact of release constitute any such warranty. Furthermore, the \n",
      "software is released on condition that neither the USGS nor the U.S. \n",
      "Government shall be held liable for any damages resulting from its \n",
      "authorized or unauthorized use. Also refer to the USGS Water \n",
      "Resources Software User Rights Notice for complete use, copyright, \n",
      "and distribution information.\n",
      "\n",
      " \n",
      " Run start date and time (yyyy/mm/dd hh:mm:ss): 2022/08/01 11:24:14\n",
      " \n",
      " Writing simulation list file: mfsim.lst\n",
      " Using Simulation name file: mfsim.nam\n",
      " \n",
      "    Solving:  Stress period:     1    Time step:     1\n",
      " \n",
      " Run end date and time (yyyy/mm/dd hh:mm:ss): 2022/08/01 11:24:14\n",
      " Elapsed run time:  0.336 Seconds\n",
      " \n",
      " Normal termination of simulation.\n"
     ]
    },
    {
     "data": {
      "text/plain": [
       "(True, [])"
      ]
     },
     "execution_count": 13,
     "metadata": {},
     "output_type": "execute_result"
    }
   ],
   "source": [
    "sim.run_simulation()"
   ]
  },
  {
   "cell_type": "markdown",
   "id": "079cd5a6",
   "metadata": {},
   "source": [
    "### Postprocessing and viewing the results\n",
    "Following execution of the model, we can view the results using the Flopy ``PlotMapView`` object, which can overlay model information together in the coordinate reference system of the model grid. First, use the Flopy ``get_water_table`` utilty to compute a 2D array of the water table elevations from the 3D head solution:"
   ]
  },
  {
   "cell_type": "code",
   "execution_count": 14,
   "id": "55ca4fcf",
   "metadata": {},
   "outputs": [],
   "source": [
    "from flopy.utils.postprocessing import get_water_table\n",
    "\n",
    "hds = gwf.output.head().get_data()\n",
    "wt = get_water_table(hds, nodata=-1e30)"
   ]
  },
  {
   "cell_type": "markdown",
   "id": "fc75505e",
   "metadata": {},
   "source": [
    "Then, we read the Lake and SFR budget results into 3D Numpy arrays of the same shape as the model, for easy plotting. Cells that don't have these boundary conditions are masked."
   ]
  },
  {
   "cell_type": "code",
   "execution_count": 15,
   "id": "12d6d77d",
   "metadata": {},
   "outputs": [],
   "source": [
    "cbc = gwf.output.budget()\n",
    "lak = cbc.get_data(text='lak', full3D=True)[0]\n",
    "sfr = cbc.get_data(text='sfr', full3D=True)[0]"
   ]
  },
  {
   "cell_type": "markdown",
   "id": "f96ae6bd",
   "metadata": {},
   "source": [
    "Now make the figure using the ``PlotMapView`` object. The budget results show simulated groundwater/surface water interactions at each model cell, in units of cubic meters per day, with negative values indicating groundwater discharge to surface water."
   ]
  },
  {
   "cell_type": "code",
   "execution_count": 26,
   "id": "efd1ad1b",
   "metadata": {},
   "outputs": [
    {
     "data": {
      "image/png": "[encoded data removed]",
      "text/plain": [
       "<Figure size 432x432 with 2 Axes>"
      ]
     },
     "metadata": {
      "needs_background": "light"
     },
     "output_type": "display_data"
    }
   ],
   "source": [
    "fig, ax = plt.subplots(figsize=(6, 6))\n",
    "pmv = flopy.plot.PlotMapView(gwf, ax=ax)\n",
    "ctr = pmv.contour_array(\n",
    "    wt, levels=np.arange(290, 315, 1), \n",
    "    linewidths=1, colors='b')\n",
    "labels = pmv.ax.clabel(\n",
    "    ctr, inline=True, \n",
    "    fontsize=8, inline_spacing=1)\n",
    "vmin, vmax = -100, 100\n",
    "im = pmv.plot_array(\n",
    "    lak[0], cmap='coolwarm', \n",
    "    vmin=vmin, vmax=vmax)\n",
    "im = pmv.plot_array(\n",
    "    sfr.sum(axis=0), cmap='coolwarm', \n",
    "    vmin=vmin, vmax=vmax)\n",
    "cb = fig.colorbar(\n",
    "    im, shrink=0.5, label='Leakage, in m$^3$/day')\n",
    "ax.set_ylabel(\"Northing, WTM meters\")\n",
    "ax.set_xlabel(\"Easting, WTM meters\")\n",
    "ax.set_aspect(1)\n",
    "plt.tight_layout()\n",
    "plt.savefig('results.pdf')"
   ]
  },
  {
   "cell_type": "markdown",
   "id": "4587085b",
   "metadata": {},
   "source": [
    "### References\n",
    "\n",
    "Fienen, M.N., Haserodt, M.J., Leaf, A.T., Westenbroek, S.M., 2022, Simulation of Regional Groundwater Flow and Groundwater/Lake Interactions in the Central Sands, Wisconsin: U.S. Geological Survey Scientific Investigations Report 2022-5046, http://doi.org/10.3133/sir20225046\n",
    "\n",
    "Fienen, M.N., Haserodt, M.J., and Leaf, A.T, 2021, MODFLOW models used to simulate groundwater flow in the Wisconsin Central Sands Study Area, 2012-2018, U.S. Geological Survey Data Release, https://doi.org/10.5066/P9BVFSGJ\n",
    "\n",
    "Leaf, A.T., Fienen, M.N. and Reeves, H.W. (2021), SFRmaker and Linesink-Maker: Rapid Construction of Streamflow Routing Networks from Hydrography Data. Groundwater, 59: 761-771. https://doi.org/10.1111/gwat.13095"
   ]
  },
  {
   "cell_type": "code",
   "execution_count": null,
   "id": "2454ac4c",
   "metadata": {},
   "outputs": [],
   "source": []
  }
 ],
 "metadata": {
  "kernelspec": {
   "display_name": "Python 3 (ipykernel)",
   "language": "python",
   "name": "python3"
  },
  "language_info": {
   "codemirror_mode": {
    "name": "ipython",
    "version": 3
   },
   "file_extension": ".py",
   "mimetype": "text/x-python",
   "name": "python",
   "nbconvert_exporter": "python",
   "pygments_lexer": "ipython3",
   "version": "3.10.5"
  }
 },
 "nbformat": 4,
 "nbformat_minor": 5
}
