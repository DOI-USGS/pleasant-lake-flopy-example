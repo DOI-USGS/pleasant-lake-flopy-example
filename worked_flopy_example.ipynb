{
 "cells": [
  {
   "attachments": {},
   "cell_type": "markdown",
   "id": "e0e850ed",
   "metadata": {},
   "source": [
    "We provide here a worked example using Flopy to develop a geo-located model grid, mapping input to the grid, and entering input to MODFLOW. This example, based on the Pleasant Lake (MODFLOW 6) model published by Fienen et al. (2022) includes a level of complexity similar to a \"real world\" application, including Streamflow Routing and Lake Package boundary conditions, and specification of input through external text array files that are amenable to parameter estimation. This relies on popular python packages, Flopy utilities, and an example package implemented to work with Flopy to prepare geospatial and hydrologic data for input to Flopy."
   ]
  },
  {
   "cell_type": "markdown",
   "id": "afc89253",
   "metadata": {},
   "source": [
    "Preliminarily, all packages need to be imported including Flopy and a few other useful python packages."
   ]
  },
  {
   "cell_type": "code",
   "execution_count": null,
   "id": "5acd45ac",
   "metadata": {},
   "outputs": [],
   "source": [
    "import numpy as np\n",
    "import matplotlib.pyplot as plt\n",
    "import flopy\n",
    "import flopy.mf6 as mf6\n",
    "from flopy.discretization import StructuredGrid\n",
    "from flopy.utils import Raster\n",
    "import sfrmaker"
   ]
  },
  {
   "cell_type": "markdown",
   "id": "08567e2b",
   "metadata": {},
   "source": [
    "### Basic model information\n",
    "We start the model-building process by defining a name and folder location for the model. We then define the discretization and orientation of the model grid in a coordinate reference system (in this case, Wisconsin Transverse Mercator, denoted by EPSG code 3070). "
   ]
  },
  {
   "cell_type": "code",
   "execution_count": null,
   "id": "be85402f",
   "metadata": {},
   "outputs": [],
   "source": [
    "model_name = 'pleasant'\n",
    "workspace = '.'\n",
    "\n",
    "nper, nlay, nrow, ncol = 1, 3, 60, 70\n",
    "delr, delc = 40, 40\n",
    "xoffset, yoffset = 554400., 389200.0\n",
    "epsg = 3070\n",
    "\n",
    "modelgrid = StructuredGrid(\n",
    "    delr=np.ones(ncol) * delr,\n",
    "    delc=np.ones(nrow) * delc,\n",
    "    xoff=xoffset, yoff=yoffset)"
   ]
  },
  {
   "cell_type": "markdown",
   "id": "933cbc52",
   "metadata": {},
   "source": [
    "### Show intersecting a single raster with model grid using flopy's Raster class\n",
    "The ``Raster`` class in Flopy can be used to interpolate raster surfaces onto the geolocated model grid. In this case, elevations from the impermeable bedrock surface at the base of the model are interpolated linearly to the model grid cell centers. The ``Raster`` class returns a Numpy array of the same shape as the model, which can be written to a text file that can be read directly by MODFLOW."
   ]
  },
  {
   "cell_type": "code",
   "execution_count": null,
   "id": "0d6e9f19",
   "metadata": {},
   "outputs": [],
   "source": [
    "br_surf = Raster.load('data/br_surface.tif')\n",
    "rs = br_surf.resample_to_grid(\n",
    "    modelgrid, band=1, method='linear')\n",
    "np.savetxt('data/botm_002.dat', rs)"
   ]
  },
  {
   "cell_type": "markdown",
   "id": "73a9be70",
   "metadata": {},
   "source": [
    "### External array files\n",
    "Similar operations can be performed to produce text file arrays for other model properties. For example, Flopy can export a shapefile of the modelgrid, which can then be used in a GIS environment to compute zonal statistics of land surface elevations. Or text file arrays might be produced by parameter estimation software such as PEST. We list text file inputs together in the block below for easy reference. Broadly, these external files fall into two categories-- array files of spatially continuous values for each cell (with one file per layer or stress period), and tabular files of sparse input values (one per stress period) with location and attribute information (e.g. row/column/layer or node number, flux, elevation, stage, conductance, etc.). In the example below, hydraulic conductivity, recharge and cell top and bottom elevations are contained in arrays; specified heads along the model perimeter are contained in a table."
   ]
  },
  {
   "cell_type": "code",
   "execution_count": null,
   "id": "290b4ee4",
   "metadata": {},
   "outputs": [],
   "source": [
    "top = [{'filename': 'data/top.dat'}]\n",
    "botm = [{'filename': 'data/botm_000.dat'},\n",
    "        {'filename': 'data/botm_001.dat'},\n",
    "        {'filename': 'data/botm_002.dat'}]\n",
    "# hydraulic conductivity\n",
    "k = [{'filename': 'data/k_000.dat'},\n",
    "     {'filename': 'data/k_001.dat'},\n",
    "     {'filename': 'data/k_002.dat'}]\n",
    "# vertical hydraulic conductivity\n",
    "k33 = [{'filename': 'data/k33_000.dat'},\n",
    "       {'filename': 'data/k33_001.dat'},\n",
    "       {'filename': 'data/k33_002.dat'}]\n",
    "# use the model top for starting heads\n",
    "strt = [top[0]] * nlay\n",
    "recharge = {\n",
    "    0: {'filename': 'data/rch_000.dat'}}\n",
    "irch = [{'filename': 'data/irch.dat'}]\n",
    "spec_head_perimeter = {\n",
    "    0: {'filename': 'data/chd_000.dat'}}"
   ]
  },
  {
   "cell_type": "markdown",
   "id": "2353432b",
   "metadata": {},
   "source": [
    "### Set up the model in Flopy\n",
    "Now that we've defined the model grid and listed the key external file inputs, we're ready to construct the model in Flopy. In general, Flopy represents each input file to MODFLOW with its own python object class. The reader is referred to the MODFLOW 6 and Flopy documenation for more details on the input structures to MODFLOW 6 and Flopy. Here we start by creating a simulation class instance, which represents the Simulation Name File in MODFLOW 6."
   ]
  },
  {
   "cell_type": "code",
   "execution_count": null,
   "id": "8b16df86",
   "metadata": {},
   "outputs": [],
   "source": [
    "sim = mf6.MFSimulation(\n",
    "    sim_name=model_name, version=\"mf6\", \n",
    "    exe_name=\"mf6\", sim_ws=workspace)"
   ]
  },
  {
   "cell_type": "markdown",
   "id": "8dbeecb9",
   "metadata": {},
   "source": [
    "Next we create object instances for the simulation level packages that would be shared by all models contained within a MODFLOW 6 simulation. These include the Temporal Discretization (TDIS) and Iterative Matrix Solution (IMS) Packages."
   ]
  },
  {
   "cell_type": "code",
   "execution_count": null,
   "id": "112f68b5",
   "metadata": {},
   "outputs": [],
   "source": [
    "tdis = mf6.ModflowTdis(\n",
    "    sim, time_units=\"days\", nper=1, \n",
    "    perioddata=[(1.0, 1, 1.0)])\n",
    "\n",
    "ims = mf6.ModflowIms(\n",
    "    sim, complexity=\"moderate\", \n",
    "    outer_dvclose=0.001)"
   ]
  },
  {
   "cell_type": "markdown",
   "id": "73fb3d12",
   "metadata": {},
   "source": [
    "Now that the simluation is established, we can make the groundwater model. The ``ModflowGwf`` class represents the groundwater model and the Name file. Next we create class instances for the Output Control and Discretization Packages. We opt to save the head and flow solutions to MODFLOW binary output, so that we can view them later. We also use information from the stand-alone model grid that we made earlier to locate the model grid object attached to the Flopy model, so that Flopy will write the correct spatial reference information to the Name file."
   ]
  },
  {
   "cell_type": "code",
   "execution_count": null,
   "id": "0af601f4",
   "metadata": {},
   "outputs": [],
   "source": [
    "# create the model instance\n",
    "gwf = mf6.ModflowGwf(\n",
    "    sim, modelname=model_name, \n",
    "    save_flows=True)\n",
    "\n",
    "# output control\n",
    "oc = mf6.ModflowGwfoc(\n",
    "    gwf, head_filerecord=f'{gwf.name}.hds', \n",
    "    budget_filerecord=f'{gwf.name}.cbc',\n",
    "    saverecord=[('head', 'all'), (\"budget\", \"all\")])\n",
    "                \n",
    "# set up the discretization package\n",
    "dis = mf6.ModflowGwfdis(\n",
    "    gwf, nlay=nlay, nrow=nrow, ncol=ncol,\n",
    "    delr=delr, delc=delc, \n",
    "    top=top, botm=botm, idomain=1)\n",
    "\n",
    "# locate the model grid\n",
    "gwf.modelgrid.set_coord_info(\n",
    "    xoff=xoffset, yoff=yoffset, epsg=epsg)\n",
    "gwf.modelgrid"
   ]
  },
  {
   "cell_type": "markdown",
   "id": "e5e8a241",
   "metadata": {},
   "source": [
    "### Assign aquifer properties\n",
    "Next we assign aquifer properties. Since this is a steady-state model, we need only include the Node Property Flow (NPF) package, which specifies hydraulic conductivity."
   ]
  },
  {
   "cell_type": "code",
   "execution_count": null,
   "id": "b6995e4b",
   "metadata": {},
   "outputs": [],
   "source": [
    "npf = mf6.ModflowGwfnpf(\n",
    "    gwf, icelltype=1, k=k, k33=k33)"
   ]
  },
  {
   "cell_type": "markdown",
   "id": "d64899d3",
   "metadata": {},
   "source": [
    "### Assign initial conditions\n",
    "Starting heads for the MODFLOW solver are assigned via the Initial Conditions (IC) Package. Earlier in the workflow, we assigned a text file array of the model top elevation to the ``strt`` variable (starting heads for the model solution)."
   ]
  },
  {
   "cell_type": "code",
   "execution_count": null,
   "id": "1a6ae50a",
   "metadata": {},
   "outputs": [],
   "source": [
    "ic = mf6.ModflowGwfic(gwf, strt=strt)"
   ]
  },
  {
   "cell_type": "markdown",
   "id": "6faf787c",
   "metadata": {},
   "source": [
    "### Assign boundary conditions\n",
    "Finally, we assign boundary conditions. Similar to other packages, we specify perimeter heads to the Constant Head Package via an external table, and steady state recharge via a text array file. An external connection data table for the Lake Package lists each model cell connected to the lake, as well as the leakance and orientation of each connection. The ``packagedata`` argument contains the initial stage, number of connections, and \"boundname\" for each lake (Langevin et al., 2017). Lake water balance components are specified under ``perioddata``. An external table specifies the relationship between stage, area and volume for the lake."
   ]
  },
  {
   "cell_type": "code",
   "execution_count": null,
   "id": "14e94e72",
   "metadata": {},
   "outputs": [],
   "source": [
    "chd = mf6.ModflowGwfchd(\n",
    "    gwf, stress_period_data=spec_head_perimeter)\n",
    "rch = mf6.ModflowGwfrcha(\n",
    "    gwf, recharge=recharge, irch=irch)\n",
    "\n",
    "lak = mf6.ModflowGwflak(\n",
    "    gwf,\n",
    "    boundnames=True, nlakes=1,\n",
    "    connectiondata={\n",
    "        'filename': 'data/lake_cn.dat'},\n",
    "    observations={'lake1.obs.csv': \n",
    "                  [('stage', 'stage', 'lake1')]},\n",
    "    packagedata=[[0, 290.85, 345, 'lake1']],\n",
    "    perioddata={0: [\n",
    "        [0, 'evaporation', 0.000715], \n",
    "        [0, 'rainfall', 0.00209]\n",
    "    ]},\n",
    "    tables=[(0, 'data/lake1_stage_area_vol.dat')],\n",
    "    surfdep=0.1)"
   ]
  },
  {
   "cell_type": "markdown",
   "id": "68ddec9c",
   "metadata": {},
   "source": [
    "The creation of Streamflow Routing (SFR) Package input is handled by SFRmaker (Leaf et al., 2021), which takes a shapefile of hydrography and a digital elevation model raster as input, and operates on the Flopy model object."
   ]
  },
  {
   "cell_type": "code",
   "execution_count": null,
   "id": "1f053a1a",
   "metadata": {},
   "outputs": [],
   "source": [
    "lines = sfrmaker.Lines.from_shapefile(\n",
    "    shapefile='data/edited_flowlines.shp',\n",
    "    id_column='id',\n",
    "    routing_column='toid',\n",
    "    width1_column='width1',\n",
    "    width2_column='width2',\n",
    "    name_column='name',\n",
    "    attr_length_units='meters'\n",
    "    )\n",
    "sfrdata = lines.to_sfr(\n",
    "    model=gwf, \n",
    "    model_length_units='meters')\n",
    "sfrdata.set_streambed_top_elevations_from_dem(\n",
    "    'data/dem40m.tif', \n",
    "    elevation_units='meters')\n",
    "sfrdata.assign_layers()\n",
    "sfr = sfrdata.create_mf6sfr(gwf)"
   ]
  },
  {
   "cell_type": "markdown",
   "id": "b4235d53",
   "metadata": {},
   "source": [
    "Now that all of the packages are made, we can write the MODFLOW input files."
   ]
  },
  {
   "cell_type": "code",
   "execution_count": null,
   "id": "03fb00f8",
   "metadata": {},
   "outputs": [],
   "source": [
    "sim.write_simulation()"
   ]
  },
  {
   "cell_type": "markdown",
   "id": "2c13a52e",
   "metadata": {},
   "source": [
    "MODFLOW can be run at the command line, or through Flopy, as shown here."
   ]
  },
  {
   "cell_type": "code",
   "execution_count": null,
   "id": "fa7b54e4",
   "metadata": {},
   "outputs": [],
   "source": [
    "sim.run_simulation()"
   ]
  },
  {
   "cell_type": "markdown",
   "id": "079cd5a6",
   "metadata": {},
   "source": [
    "Following execution of the model, we can view the results using the Flopy ``PlotMapView`` object, which can overlay model information together in the coordinate reference system of the model grid. First, use the Flopy ``get_water_table`` utilty to compute a 2D array of the water table elevations from the 3D head solution:"
   ]
  },
  {
   "cell_type": "code",
   "execution_count": null,
   "id": "55ca4fcf",
   "metadata": {},
   "outputs": [],
   "source": [
    "from flopy.utils.postprocessing import get_water_table\n",
    "\n",
    "hds = gwf.output.head().get_data()\n",
    "wt = get_water_table(hds, nodata=-1e30)"
   ]
  },
  {
   "cell_type": "markdown",
   "id": "fc75505e",
   "metadata": {},
   "source": [
    "Then read the Lake and SFR budget results into 3D Numpy arrays of the same shape as the model, for easy plotting. Cells that don't have these boundary conditions are masked."
   ]
  },
  {
   "cell_type": "code",
   "execution_count": null,
   "id": "12d6d77d",
   "metadata": {},
   "outputs": [],
   "source": [
    "cbc = gwf.output.budget()\n",
    "lak = cbc.get_data(text='lak', full3D=True)[0]\n",
    "sfr = cbc.get_data(text='sfr', full3D=True)[0]"
   ]
  },
  {
   "cell_type": "markdown",
   "id": "f96ae6bd",
   "metadata": {},
   "source": [
    "Now make the figure using the ``PlotMapView`` object."
   ]
  },
  {
   "cell_type": "code",
   "execution_count": null,
   "id": "efd1ad1b",
   "metadata": {},
   "outputs": [],
   "source": [
    "fig, ax = plt.subplots(figsize=(6, 6))\n",
    "pmv = flopy.plot.PlotMapView(gwf, ax=ax)\n",
    "ctr = pmv.contour_array(\n",
    "    wt, levels=np.arange(290, 315, 1), \n",
    "    linewidths=1, colors='b'\n",
    ")\n",
    "labels = pmv.ax.clabel(\n",
    "    ctr, inline=True, \n",
    "    fontsize=8, inline_spacing=1)\n",
    "\n",
    "vmin, vmax = -100, 100\n",
    "pmv.plot_array(\n",
    "    lak[0], cmap='coolwarm', \n",
    "    vmin=vmin, vmax=vmax)\n",
    "pmv.plot_array(\n",
    "    sfr.sum(axis=0), cmap='coolwarm', \n",
    "    vmin=vmin, vmax=vmax)\n",
    "ax.set_aspect(1)\n",
    "plt.savefig('results.pdf')"
   ]
  },
  {
   "cell_type": "markdown",
   "id": "1f78a65f",
   "metadata": {},
   "source": [
    "### interdepent blocks (not in the paper)"
   ]
  },
  {
   "cell_type": "code",
   "execution_count": null,
   "id": "0013fd10",
   "metadata": {},
   "outputs": [],
   "source": [
    "import numpy as np\n",
    "thickness = -np.diff(np.stack([gwf.dis.top.array] + [arr for arr in gwf.dis.botm.array]), axis=0)\n",
    "idomain = gwf.dis.idomain.array\n",
    "idomain[thickness < 1] = 0\n",
    "for k, arr2d in enumerate(idomain):\n",
    "    np.savetxt(f'data/idomain_{k:03d}.dat', arr2d, fmt='%.0f')"
   ]
  },
  {
   "cell_type": "code",
   "execution_count": null,
   "id": "42c38ca4",
   "metadata": {},
   "outputs": [],
   "source": [
    "idomain2 = np.loadtxt('data/idomain_000.dat')\n",
    "idomain2[42, 30]"
   ]
  },
  {
   "cell_type": "code",
   "execution_count": null,
   "id": "0aee6ad4",
   "metadata": {},
   "outputs": [],
   "source": [
    "thickness[:, 42, 30] < 1"
   ]
  },
  {
   "cell_type": "code",
   "execution_count": null,
   "id": "a32decb4",
   "metadata": {},
   "outputs": [],
   "source": [
    "idomain[:, 42, 30]"
   ]
  },
  {
   "cell_type": "code",
   "execution_count": null,
   "id": "d27065ef",
   "metadata": {},
   "outputs": [],
   "source": [
    "gwf.dis.idomain.array[:, 69, 52]"
   ]
  },
  {
   "cell_type": "code",
   "execution_count": null,
   "id": "e6ce4821",
   "metadata": {},
   "outputs": [],
   "source": [
    "np.stack([gwf.dis.top.array] + [arr for arr in gwf.dis.botm.array]).shape"
   ]
  },
  {
   "cell_type": "code",
   "execution_count": null,
   "id": "3686014a",
   "metadata": {},
   "outputs": [],
   "source": []
  }
 ],
 "metadata": {
  "kernelspec": {
   "display_name": "Python 3 (ipykernel)",
   "language": "python",
   "name": "python3"
  },
  "language_info": {
   "codemirror_mode": {
    "name": "ipython",
    "version": 3
   },
   "file_extension": ".py",
   "mimetype": "text/x-python",
   "name": "python",
   "nbconvert_exporter": "python",
   "pygments_lexer": "ipython3",
   "version": "3.9.12"
  }
 },
 "nbformat": 4,
 "nbformat_minor": 5
}
