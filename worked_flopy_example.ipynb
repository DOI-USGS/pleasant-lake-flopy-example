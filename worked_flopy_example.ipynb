{
 "cells": [
  {
   "cell_type": "markdown",
   "id": "e0e850ed",
   "metadata": {},
   "source": [
    "Here we provide a worked example based on the Pleasant Lake (MODFLOW 6) model published by Fienen et al. (2022). We show this example because it includes a level of complexity similar to a \"real world\" application, including Streamflow Routing and Lake Package boundary conditions, and specification of input through external text array files that are amenable to parameter estimation. Full description of the model input development is beyond the scope of this paper. Instead, we focus on using Flopy to develop a geo-located model grid, mapping input to the grid, and entering input to Flopy, which then constructs formatted input files to MODFLOW."
   ]
  },
  {
   "cell_type": "code",
   "execution_count": 1,
   "id": "5acd45ac",
   "metadata": {},
   "outputs": [],
   "source": [
    "from pathlib import Path\n",
    "import numpy as np\n",
    "import matplotlib.pyplot as plt\n",
    "import flopy\n",
    "import flopy.mf6 as mf6\n",
    "from flopy.discretization import StructuredGrid\n",
    "from flopy.utils import Raster\n",
    "import sfrmaker"
   ]
  },
  {
   "cell_type": "markdown",
   "id": "08567e2b",
   "metadata": {},
   "source": [
    "### Basic model information\n",
    "We start by defining a name for the model, and a folder for the model files to be located. We then define some basic information about the grid, including the number of rows and columns and orientation in a coordinate reference system (in this case, Wisconsin Transverse Mercator, denoted by EPSG code 3070). We can then use this information about the grid to sample cell top and bottom elevations or other model properties from geolocated rasters."
   ]
  },
  {
   "cell_type": "code",
   "execution_count": 2,
   "id": "be85402f",
   "metadata": {},
   "outputs": [],
   "source": [
    "model_name = 'pleasant'\n",
    "workspace = '.'\n",
    "data_folder = Path('data')\n",
    "\n",
    "nper, nlay, nrow, ncol = 1, 3, 60, 70\n",
    "delr, delc = 40, 40\n",
    "xoffset = 554400.\n",
    "yoffset = 389200.0\n",
    "epsg = 3070\n",
    "\n",
    "modelgrid = StructuredGrid(\n",
    "    delr=np.ones(ncol) * delr,\n",
    "    delc=np.ones(nrow) * delc,\n",
    "    xoff=xoffset,\n",
    "    yoff=yoffset)"
   ]
  },
  {
   "cell_type": "markdown",
   "id": "933cbc52",
   "metadata": {},
   "source": [
    "### Show intersecting a single raster with model grid using flopy's Raster class\n",
    "The block below shows an example of using the ``Raster`` class in Flopy to map a geolocated raster surface (a GeoTIFF) onto the model grid. In this case, elevation values for the precambrian surface that forms the bottom of the model are interpolated linearly to the model grid cell centers. The ``Raster`` class returns a Numpy array of the same row and column dimensions as the model, which is written to a text file that can be read directly by MODFLOW."
   ]
  },
  {
   "cell_type": "code",
   "execution_count": 3,
   "id": "0d6e9f19",
   "metadata": {},
   "outputs": [],
   "source": [
    "pc_surf = Raster.load('data/pc_surface.tif')\n",
    "rs = pc_surf.resample_to_grid(modelgrid, band=1, method='linear')\n",
    "np.savetxt('data/botm_002.dat', rs)"
   ]
  },
  {
   "cell_type": "markdown",
   "id": "73a9be70",
   "metadata": {},
   "source": [
    "### External array files\n",
    "Similar operations can be performed to produce text file arrays for other model properties. For example, Flopy can export a shapefile of the modelgrid, which can then be used in a GIS environment to compute zonal statistics of land surface elevations. Or text file arrays might be produced by parameter estimation software such as PEST. We list text file inputs together in the block below for easy reference. Broadly, these external files fall into two categories-- array files that specify spatially continuous numerical values in rows and columns commensurate with the model grid (with one file per layer or stress period), and tabular files that specify sparse input with a row for each computational element (for example, a single well flux). Columns in the tabular files contain attribute information such as location (row/column/layer or node number), flux, elevation, stage, conductance, etc. For transient input, a single tabular file is used for each stress period. In the example below, hydraulic conductivity, recharge and cell top and bottom elevations are contained in arrays; specified heads along the model perimeter (from a regional model solution) are contained in a table."
   ]
  },
  {
   "cell_type": "code",
   "execution_count": 4,
   "id": "290b4ee4",
   "metadata": {},
   "outputs": [],
   "source": [
    "top = [{'filename': 'data/top.dat'}]\n",
    "botm = [{'filename': 'data/botm_000.dat'},\n",
    "    {'filename': 'data/botm_001.dat'},\n",
    "    {'filename': 'data/botm_002.dat'}\n",
    "]\n",
    "# hydraulic conductivity\n",
    "k = [\n",
    "    {'filename': 'data/k_000.dat'},\n",
    "    {'filename': 'data/k_001.dat'},\n",
    "    {'filename': 'data/k_002.dat'}\n",
    "]\n",
    "# vertical hydraulic conductivity\n",
    "k33 = [\n",
    "    {'filename': 'data/k33_000.dat'},\n",
    "    {'filename': 'data/k33_001.dat'},\n",
    "    {'filename': 'data/k33_002.dat'}\n",
    "]\n",
    "# use the model top for starting heads\n",
    "strt = [top[0]]*nlay\n",
    "\n",
    "recharge = {0: {'filename': 'data/rch_000.dat'}}\n",
    "irch = [{'filename': 'data/irch.dat'}]\n",
    "spec_head_perimeter = {0: {'filename': 'data/chd_000.dat'}}"
   ]
  },
  {
   "cell_type": "markdown",
   "id": "2353432b",
   "metadata": {},
   "source": [
    "### Set up the model in Flopy\n",
    "Now that we've defined the model grid and listed the key external file inputs, we're ready to construct the model in Flopy. In general, Flopy represents each input file to MODFLOW with its own python object class. The reader is referred to the MODFLOW 6 and Flopy documenation for more details on the input structures to MODFLOW 6 and Flopy. Here we start by creating a simulation class instance, which represents the Simulation Name File in MODFLOW 6."
   ]
  },
  {
   "cell_type": "code",
   "execution_count": 5,
   "id": "8b16df86",
   "metadata": {},
   "outputs": [],
   "source": [
    "# create simulation instance\n",
    "sim = mf6.MFSimulation(\n",
    "    sim_name=model_name, version=\"mf6\", \n",
    "    exe_name=\"mf6\", sim_ws=workspace)"
   ]
  },
  {
   "cell_type": "markdown",
   "id": "8dbeecb9",
   "metadata": {},
   "source": [
    "Next we create object instances for the simulation level packages that would be shared by all models contained within a MODFLOW 6 simulation. These include the Temporal Discretization (TDIS) and Iterative Matrix Solution (IMS) Packages."
   ]
  },
  {
   "cell_type": "code",
   "execution_count": 6,
   "id": "112f68b5",
   "metadata": {},
   "outputs": [],
   "source": [
    "# create tdis package \n",
    "tdis = mf6.ModflowTdis(\n",
    "    sim, time_units=\"days\", nper=1, \n",
    "    perioddata=[(1.0, 1, 1.0)])\n",
    "\n",
    "# create iterative model solution and register the gwf model with it\n",
    "ims = mf6.ModflowIms(sim, complexity=\"moderate\", outer_dvclose=0.001)"
   ]
  },
  {
   "cell_type": "markdown",
   "id": "73fb3d12",
   "metadata": {},
   "source": [
    "Now that the simluation is established, we can make the groundwater model. The ``ModflowGwf`` class represents the groundwater model and the Name file. Next we create class instances for the Output Control and Discretization Packages. We opt to save the head and flow solutions to MODFLOW binary output, so that we can view them later. We also use information from the stand-alone model grid that we made earlier to locate the model grid object attached to the Flopy model, so that Flopy will write the correct spatial reference information to the Name file."
   ]
  },
  {
   "cell_type": "code",
   "execution_count": 7,
   "id": "0af601f4",
   "metadata": {},
   "outputs": [
    {
     "data": {
      "text/plain": [
       "xll:554400.0; yll:389200.0; rotation:0.0; proj4_str:epsg:3070; units:undefined; lenuni:0"
      ]
     },
     "execution_count": 7,
     "metadata": {},
     "output_type": "execute_result"
    }
   ],
   "source": [
    "# create the model instance\n",
    "gwf = mf6.ModflowGwf(sim, modelname=model_name, save_flows=True)\n",
    "\n",
    "# output control\n",
    "oc = mf6.ModflowGwfoc(gwf, head_filerecord=f'{gwf.name}.hds', \n",
    "                      budget_filerecord=f'{gwf.name}.cbc', \n",
    "                      saverecord=[('head', 'all'), (\"budget\", \"all\")])\n",
    "                \n",
    "# set up the discretization package\n",
    "dis = mf6.ModflowGwfdis(gwf, nlay=nlay, nrow=nrow, ncol=ncol,\n",
    "                        delr=delr, delc=delc, \n",
    "                        top=top, botm=botm, idomain=1)\n",
    "\n",
    "# locate the model grid\n",
    "gwf.modelgrid.set_coord_info(xoff=xoffset, yoff=yoffset, epsg=epsg)\n",
    "gwf.modelgrid"
   ]
  },
  {
   "cell_type": "markdown",
   "id": "e5e8a241",
   "metadata": {},
   "source": [
    "### Assign aquifer properties\n",
    "Next we assign aquifer properties. Since this is a steady-state model, we need only include the Node Property Flow (NPF) package, which specifies hydraulic conductivity."
   ]
  },
  {
   "cell_type": "code",
   "execution_count": 8,
   "id": "b6995e4b",
   "metadata": {},
   "outputs": [],
   "source": [
    "npf = mf6.ModflowGwfnpf(gwf, icelltype=1, k=k, k33=k33)"
   ]
  },
  {
   "cell_type": "markdown",
   "id": "d64899d3",
   "metadata": {},
   "source": [
    "### Assign initial conditions\n",
    "Starting heads for the MODFLOW solver are assigned via the Initial Conditions (IC) Package. Earlier in the workflow, we assigned a text file array of the model top elevation to the ``strt`` variable (starting heads for the model solution)."
   ]
  },
  {
   "cell_type": "code",
   "execution_count": 9,
   "id": "1a6ae50a",
   "metadata": {},
   "outputs": [],
   "source": [
    "ic = mf6.ModflowGwfic(gwf, strt=strt)"
   ]
  },
  {
   "cell_type": "markdown",
   "id": "6faf787c",
   "metadata": {},
   "source": [
    "### Assign boundary conditions\n",
    "Finally, we assign boundary conditions. Similar to other packages, we specify perimeter heads to the Constant Head Package via an external table, and steady state recharge via a text array file. An external connection data table for the Lake Package lists each model cell connected to the lake, as well as the leakance and orientation of each connection. The ``packagedata`` argument contains the initial stage, number of connections, and \"boundname\" for each lake (Langevin et al., 2017). Lake water balance components are specified under ``perioddata``. An external table specifies the relationship between stage, area and volume for the lake."
   ]
  },
  {
   "cell_type": "code",
   "execution_count": 10,
   "id": "14e94e72",
   "metadata": {},
   "outputs": [],
   "source": [
    "chd = mf6.ModflowGwfchd(gwf, stress_period_data=spec_head_perimeter)\n",
    "rch = mf6.ModflowGwfrcha(gwf, recharge=recharge, irch=irch)\n",
    "\n",
    "lak = mf6.ModflowGwflak(gwf,\n",
    "                        boundnames=True, nlakes=1,\n",
    "                        connectiondata={'filename': 'data/lake_connectiondata.dat'},\n",
    "                        observations={'lake1.obs.csv': [('stage', 'stage', 'lake1')]},\n",
    "                        packagedata=[[0, 290.85, 345, 'lake1']],\n",
    "                        perioddata={0: [\n",
    "                            [0, 'evaporation', 0.000715], \n",
    "                            [0, 'rainfall', 0.00209]\n",
    "                        ]},\n",
    "                        tables=[(0, 'data/lake1_stage_area_volume.dat')],\n",
    "                        surfdep=0.1\n",
    "                        )"
   ]
  },
  {
   "cell_type": "markdown",
   "id": "68ddec9c",
   "metadata": {},
   "source": [
    "The creation of Streamflow Routing (SFR) Package input is handled by SFRmaker (Leaf et al., 2021), which takes a shapefile of hydrography and a digital elevation model raster as input, and operates on the Flopy model object."
   ]
  },
  {
   "cell_type": "code",
   "execution_count": 11,
   "id": "1f053a1a",
   "metadata": {},
   "outputs": [
    {
     "name": "stdout",
     "output_type": "stream",
     "text": [
      "\n",
      "reading data/nhdplus_flowlines_edited.shp...\n",
      "--> building dataframe... (may take a while for large shapefiles)\n",
      "\n",
      "SFRmaker version 0.9.1.post10.dev0+g4b87d29\n",
      "\n",
      "Creating sfr dataset...\n",
      "Model grid information\n",
      "structured grid\n",
      "nnodes: 4,200\n",
      "nlay: 1\n",
      "nrow: 60\n",
      "ncol: 70\n",
      "model length units: undefined\n",
      "crs: EPSG:3070\n",
      "bounds: 554400.00, 389200.00, 557200.00, 391600.00\n",
      "active area defined by: all cells\n",
      "\n",
      "name = pleasant\n",
      "model_type = gwf6\n",
      "version = mf6\n",
      "model_relative_path = .\n",
      "\n",
      "###################\n",
      "Package oc\n",
      "###################\n",
      "\n",
      "package_name = oc\n",
      "filename = pleasant.oc\n",
      "package_type = oc\n",
      "model_or_simulation_package = model\n",
      "model_name = pleasant\n",
      "\n",
      "\n",
      "###################\n",
      "Package dis\n",
      "###################\n",
      "\n",
      "package_name = dis\n",
      "filename = pleasant.dis\n",
      "package_type = dis\n",
      "model_or_simulation_package = model\n",
      "model_name = pleasant\n",
      "\n",
      "\n",
      "###################\n",
      "Package npf\n",
      "###################\n",
      "\n",
      "package_name = npf\n",
      "filename = pleasant.npf\n",
      "package_type = npf\n",
      "model_or_simulation_package = model\n",
      "model_name = pleasant\n",
      "\n",
      "\n",
      "###################\n",
      "Package ic\n",
      "###################\n",
      "\n",
      "package_name = ic\n",
      "filename = pleasant.ic\n",
      "package_type = ic\n",
      "model_or_simulation_package = model\n",
      "model_name = pleasant\n",
      "\n",
      "\n",
      "###################\n",
      "Package chd_0\n",
      "###################\n",
      "\n",
      "package_name = chd_0\n",
      "filename = pleasant.chd\n",
      "package_type = chd\n",
      "model_or_simulation_package = model\n",
      "model_name = pleasant\n",
      "\n",
      "\n",
      "###################\n",
      "Package rcha_0\n",
      "###################\n",
      "\n",
      "package_name = rcha_0\n",
      "filename = pleasant.rcha\n",
      "package_type = rcha\n",
      "model_or_simulation_package = model\n",
      "model_name = pleasant\n",
      "\n",
      "\n",
      "###################\n",
      "Package lak_0\n",
      "###################\n",
      "\n",
      "package_name = lak_0\n",
      "filename = pleasant.lak\n",
      "package_type = lak\n",
      "model_or_simulation_package = model\n",
      "model_name = pleasant\n",
      "\n",
      "\n",
      "###################\n",
      "Package obs_0\n",
      "###################\n",
      "\n",
      "package_name = obs_0\n",
      "filename = pleasant.lak.obs\n",
      "package_type = obs\n",
      "model_or_simulation_package = model\n",
      "model_name = pleasant\n",
      "\n",
      "\n",
      "\n",
      "Warning: No length units specified in CRS for input LineStrings or length units not recognizeddefaulting to meters.\n",
      "\n",
      "reprojecting hydrography from\n",
      "EPSG:4269\n",
      "to\n",
      "EPSG:3070\n",
      "\n",
      "\n",
      "Culling hydrography to active area...\n",
      "starting lines: 48\n",
      "remaining lines: 2\n",
      "finished in 0.00s\n",
      "\n",
      "\n",
      "Intersecting 2 flowlines with 4,200 grid cells...\n",
      "Intersecting 2 features...\n",
      "2\n",
      "finished in 0.02s\n",
      "\n",
      "Setting up reach data... (may take a few minutes for large grids)\n",
      "finished in 0.01s\n",
      "\n",
      "\n",
      "Dropping 1 reaches with length < 2.00 meters...\n",
      "\n",
      "Repairing routing connections...\n",
      "enforcing best segment numbering...\n",
      "\n",
      "Setting up segment data...\n",
      "Model grid information\n",
      "structured grid\n",
      "nnodes: 4,200\n",
      "nlay: 1\n",
      "nrow: 60\n",
      "ncol: 70\n",
      "model length units: undefined\n",
      "crs: EPSG:3070\n",
      "bounds: 554400.00, 389200.00, 557200.00, 391600.00\n",
      "active area defined by: all cells\n",
      "\n",
      "\n",
      "Time to create sfr dataset: 0.32s\n",
      "\n",
      "running rasterstats.zonal_stats on buffered LineStrings...\n",
      "finished in 0.87s\n",
      "\n",
      "\n",
      "Smoothing elevations...\n",
      "finished in 0.00s\n",
      "Warning: BAS6 package not found. Cannot check for reaches in inactive cells. Converted SFR package may not run with MODFLOW 6.\n",
      "converting reach and segment data to package data...\n",
      "converting segment data to period data...\n"
     ]
    }
   ],
   "source": [
    "#lines = sfrmaker.Lines.from_nhdplus_v2(NHDPlus_paths='data/shapefiles')\n",
    "lines = sfrmaker.Lines.from_shapefile(shapefile='data/nhdplus_flowlines_edited.shp',\n",
    "                                      id_column='id',  # arguments to sfrmaker.Lines.from_shapefile\n",
    "                                      routing_column='toid',\n",
    "                                      width1_column='width1',\n",
    "                                      width2_column='width2',\n",
    "                                      name_column='name',\n",
    "                                      attr_length_units='meters'\n",
    "                                      )\n",
    "sfrdata = lines.to_sfr(model=gwf, isfr=gwf.dis.idomain.array, model_length_units='meters')\n",
    "sfrdata.set_streambed_top_elevations_from_dem('data/dem40m.tif', elevation_units='meters')\n",
    "\n",
    "sfrdata.assign_layers()\n",
    "sfr = sfrdata.create_mf6sfr(gwf)"
   ]
  },
  {
   "cell_type": "markdown",
   "id": "b4235d53",
   "metadata": {},
   "source": [
    "Now that all of the packages are made, we can write the MODFLOW input files."
   ]
  },
  {
   "cell_type": "code",
   "execution_count": 12,
   "id": "03fb00f8",
   "metadata": {},
   "outputs": [
    {
     "name": "stdout",
     "output_type": "stream",
     "text": [
      "writing simulation...\n",
      "  writing simulation name file...\n",
      "  writing simulation tdis package...\n",
      "  writing ims package ims_-1...\n",
      "  writing model pleasant...\n",
      "    writing model name file...\n",
      "    writing package oc...\n",
      "    writing package dis...\n",
      "    writing package npf...\n",
      "    writing package ic...\n",
      "    writing package chd_0...\n",
      "INFORMATION: maxbound in ('gwf6', 'chd', 'dimensions') changed to 572 based on size of stress_period_data\n",
      "    writing package rcha_0...\n",
      "    writing package lak_0...\n",
      "INFORMATION: ntables in ('gwf6', 'lak', 'dimensions') changed to 1 based on size of tables\n",
      "    writing package obs_0...\n",
      "    writing package sfr_0...\n"
     ]
    }
   ],
   "source": [
    "sim.write_simulation()"
   ]
  },
  {
   "cell_type": "markdown",
   "id": "2c13a52e",
   "metadata": {},
   "source": [
    "MODFLOW can be run at the command line, or through Flopy, as shown here."
   ]
  },
  {
   "cell_type": "code",
   "execution_count": 13,
   "id": "fa7b54e4",
   "metadata": {},
   "outputs": [
    {
     "name": "stdout",
     "output_type": "stream",
     "text": [
      "FloPy is using the following executable to run the model: /Users/aleaf/Documents/software/modflow_exes/mf6\n",
      "                                   MODFLOW 6\n",
      "                U.S. GEOLOGICAL SURVEY MODULAR HYDROLOGIC MODEL\n",
      "                            VERSION 6.3.0 03/04/2022\n",
      "\n",
      "   MODFLOW 6 compiled Mar 07 2022 13:50:09 with Intel(R) Fortran Intel(R) 64\n",
      "   Compiler Classic for applications running on Intel(R) 64, Version 2021.5.0\n",
      "                             Build 20211109_000000\n",
      "\n",
      "This software has been approved for release by the U.S. Geological \n",
      "Survey (USGS). Although the software has been subjected to rigorous \n",
      "review, the USGS reserves the right to update the software as needed \n",
      "pursuant to further analysis and review. No warranty, expressed or \n",
      "implied, is made by the USGS or the U.S. Government as to the \n",
      "functionality of the software and related material nor shall the \n",
      "fact of release constitute any such warranty. Furthermore, the \n",
      "software is released on condition that neither the USGS nor the U.S. \n",
      "Government shall be held liable for any damages resulting from its \n",
      "authorized or unauthorized use. Also refer to the USGS Water \n",
      "Resources Software User Rights Notice for complete use, copyright, \n",
      "and distribution information.\n",
      "\n",
      " \n",
      " Run start date and time (yyyy/mm/dd hh:mm:ss): 2022/07/27 22:34:39\n",
      " \n",
      " Writing simulation list file: mfsim.lst\n",
      " Using Simulation name file: mfsim.nam\n",
      " \n",
      "    Solving:  Stress period:     1    Time step:     1\n",
      " \n",
      " Run end date and time (yyyy/mm/dd hh:mm:ss): 2022/07/27 22:34:39\n",
      " Elapsed run time:  0.381 Seconds\n",
      " \n",
      " Normal termination of simulation.\n"
     ]
    },
    {
     "data": {
      "text/plain": [
       "(True, [])"
      ]
     },
     "execution_count": 13,
     "metadata": {},
     "output_type": "execute_result"
    }
   ],
   "source": [
    "sim.run_simulation()"
   ]
  },
  {
   "cell_type": "markdown",
   "id": "079cd5a6",
   "metadata": {},
   "source": [
    "Following execution of the model, we can view the results using the Flopy ``PlotMapView`` object, which can overlay model information together in the coordinate reference system of the model grid. First, use the Flopy ``get_water_table`` utilty to compute a 2D array of the water table elevations from the 3D head solution:"
   ]
  },
  {
   "cell_type": "code",
   "execution_count": 14,
   "id": "55ca4fcf",
   "metadata": {},
   "outputs": [],
   "source": [
    "from flopy.utils.postprocessing import get_water_table\n",
    "\n",
    "hds = gwf.output.head().get_data()\n",
    "wt = get_water_table(hds, nodata=-1e30)"
   ]
  },
  {
   "cell_type": "markdown",
   "id": "fc75505e",
   "metadata": {},
   "source": [
    "Then read the Lake and SFR budget results into 3D Numpy arrays of the same shape as the model, for easy plotting. Cells that don't have these boundary conditions are masked."
   ]
  },
  {
   "cell_type": "code",
   "execution_count": 15,
   "id": "12d6d77d",
   "metadata": {},
   "outputs": [],
   "source": [
    "cbc = gwf.output.budget()\n",
    "lak = cbc.get_data(text='lak', full3D=True)[0]\n",
    "sfr = cbc.get_data(text='sfr', full3D=True)[0]"
   ]
  },
  {
   "cell_type": "markdown",
   "id": "f96ae6bd",
   "metadata": {},
   "source": [
    "Now make the figure using the ``PlotMapView`` object."
   ]
  },
  {
   "cell_type": "code",
   "execution_count": 16,
   "id": "efd1ad1b",
   "metadata": {},
   "outputs": [
    {
     "data": {
      "image/png": "[encoded data removed]",
      "text/plain": [
       "<Figure size 432x432 with 1 Axes>"
      ]
     },
     "metadata": {
      "needs_background": "light"
     },
     "output_type": "display_data"
    }
   ],
   "source": [
    "fig, ax = plt.subplots(figsize=(6, 6))\n",
    "pmv = flopy.plot.PlotMapView(gwf, ax=ax)\n",
    "ctr = pmv.contour_array(wt, levels=np.arange(290, 315, 1), linewidths=1, colors='b')\n",
    "labels = pmv.ax.clabel(ctr, inline=True, fontsize=8, inline_spacing=1)\n",
    "\n",
    "vmin, vmax = -100, 100\n",
    "pmv.plot_array(lak[0], cmap='coolwarm', vmin=vmin, vmax=vmax)\n",
    "pmv.plot_array(sfr.sum(axis=0), cmap='coolwarm', vmin=vmin, vmax=vmax)\n",
    "ax.set_aspect(1)\n",
    "plt.savefig('results.pdf')"
   ]
  },
  {
   "cell_type": "markdown",
   "id": "1f78a65f",
   "metadata": {},
   "source": [
    "### interdepent blocks (not in the paper)"
   ]
  },
  {
   "cell_type": "code",
   "execution_count": null,
   "id": "0013fd10",
   "metadata": {},
   "outputs": [],
   "source": [
    "import numpy as np\n",
    "thickness = -np.diff(np.stack([gwf.dis.top.array] + [arr for arr in gwf.dis.botm.array]), axis=0)\n",
    "idomain = gwf.dis.idomain.array\n",
    "idomain[thickness < 1] = 0\n",
    "for k, arr2d in enumerate(idomain):\n",
    "    np.savetxt(f'data/idomain_{k:03d}.dat', arr2d, fmt='%.0f')"
   ]
  },
  {
   "cell_type": "code",
   "execution_count": null,
   "id": "42c38ca4",
   "metadata": {},
   "outputs": [],
   "source": [
    "idomain2 = np.loadtxt('data/idomain_000.dat')\n",
    "idomain2[42, 30]"
   ]
  },
  {
   "cell_type": "code",
   "execution_count": null,
   "id": "0aee6ad4",
   "metadata": {},
   "outputs": [],
   "source": [
    "thickness[:, 42, 30] < 1"
   ]
  },
  {
   "cell_type": "code",
   "execution_count": null,
   "id": "a32decb4",
   "metadata": {},
   "outputs": [],
   "source": [
    "idomain[:, 42, 30]"
   ]
  },
  {
   "cell_type": "code",
   "execution_count": null,
   "id": "d27065ef",
   "metadata": {},
   "outputs": [],
   "source": [
    "gwf.dis.idomain.array[:, 69, 52]"
   ]
  },
  {
   "cell_type": "code",
   "execution_count": null,
   "id": "e6ce4821",
   "metadata": {},
   "outputs": [],
   "source": [
    "np.stack([gwf.dis.top.array] + [arr for arr in gwf.dis.botm.array]).shape"
   ]
  },
  {
   "cell_type": "code",
   "execution_count": null,
   "id": "3686014a",
   "metadata": {},
   "outputs": [],
   "source": []
  }
 ],
 "metadata": {
  "kernelspec": {
   "display_name": "Python 3 (ipykernel)",
   "language": "python",
   "name": "python3"
  },
  "language_info": {
   "codemirror_mode": {
    "name": "ipython",
    "version": 3
   },
   "file_extension": ".py",
   "mimetype": "text/x-python",
   "name": "python",
   "nbconvert_exporter": "python",
   "pygments_lexer": "ipython3",
   "version": "3.10.5"
  }
 },
 "nbformat": 4,
 "nbformat_minor": 5
}
